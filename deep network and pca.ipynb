{
 "cells": [
  {
   "cell_type": "markdown",
   "metadata": {},
   "source": [
    "## Deep Neural network with dropouts and linear regression model to classify Fraud/Non fraud transactions with SMOTE and ADASYN to fix dataset inbalance \n",
    "\n",
    "Here we have created 2 deep network models that run on SMOTE and ADASYN generate"
   ]
  },
  {
   "cell_type": "code",
   "execution_count": 1,
   "metadata": {},
   "outputs": [
    {
     "data": {
      "text/html": [
       "<div>\n",
       "<style scoped>\n",
       "    .dataframe tbody tr th:only-of-type {\n",
       "        vertical-align: middle;\n",
       "    }\n",
       "\n",
       "    .dataframe tbody tr th {\n",
       "        vertical-align: top;\n",
       "    }\n",
       "\n",
       "    .dataframe thead th {\n",
       "        text-align: right;\n",
       "    }\n",
       "</style>\n",
       "<table border=\"1\" class=\"dataframe\">\n",
       "  <thead>\n",
       "    <tr style=\"text-align: right;\">\n",
       "      <th></th>\n",
       "      <th>PCA0</th>\n",
       "      <th>PCA1</th>\n",
       "      <th>PCA2</th>\n",
       "      <th>PCA3</th>\n",
       "      <th>valid</th>\n",
       "    </tr>\n",
       "  </thead>\n",
       "  <tbody>\n",
       "    <tr>\n",
       "      <th>0</th>\n",
       "      <td>-56.214995</td>\n",
       "      <td>1.649941</td>\n",
       "      <td>-0.308308</td>\n",
       "      <td>-0.907770</td>\n",
       "      <td>0</td>\n",
       "    </tr>\n",
       "    <tr>\n",
       "      <th>1</th>\n",
       "      <td>-53.715914</td>\n",
       "      <td>3.191073</td>\n",
       "      <td>-0.745076</td>\n",
       "      <td>-0.568303</td>\n",
       "      <td>0</td>\n",
       "    </tr>\n",
       "    <tr>\n",
       "      <th>2</th>\n",
       "      <td>79.427259</td>\n",
       "      <td>-2.919293</td>\n",
       "      <td>-0.063480</td>\n",
       "      <td>-0.030278</td>\n",
       "      <td>1</td>\n",
       "    </tr>\n",
       "    <tr>\n",
       "      <th>3</th>\n",
       "      <td>-53.703131</td>\n",
       "      <td>3.143604</td>\n",
       "      <td>0.455557</td>\n",
       "      <td>0.960732</td>\n",
       "      <td>0</td>\n",
       "    </tr>\n",
       "    <tr>\n",
       "      <th>4</th>\n",
       "      <td>-98.309056</td>\n",
       "      <td>-6.578304</td>\n",
       "      <td>-0.761650</td>\n",
       "      <td>-0.486053</td>\n",
       "      <td>0</td>\n",
       "    </tr>\n",
       "    <tr>\n",
       "      <th>...</th>\n",
       "      <td>...</td>\n",
       "      <td>...</td>\n",
       "      <td>...</td>\n",
       "      <td>...</td>\n",
       "      <td>...</td>\n",
       "    </tr>\n",
       "    <tr>\n",
       "      <th>4173</th>\n",
       "      <td>-98.118278</td>\n",
       "      <td>1.598403</td>\n",
       "      <td>1.038293</td>\n",
       "      <td>0.681382</td>\n",
       "      <td>0</td>\n",
       "    </tr>\n",
       "    <tr>\n",
       "      <th>4174</th>\n",
       "      <td>79.471209</td>\n",
       "      <td>-2.956857</td>\n",
       "      <td>-0.129709</td>\n",
       "      <td>-0.020053</td>\n",
       "      <td>1</td>\n",
       "    </tr>\n",
       "    <tr>\n",
       "      <th>4175</th>\n",
       "      <td>78.785456</td>\n",
       "      <td>-2.365327</td>\n",
       "      <td>-0.070519</td>\n",
       "      <td>-0.010275</td>\n",
       "      <td>1</td>\n",
       "    </tr>\n",
       "    <tr>\n",
       "      <th>4176</th>\n",
       "      <td>77.100834</td>\n",
       "      <td>-0.910943</td>\n",
       "      <td>-0.136522</td>\n",
       "      <td>0.047493</td>\n",
       "      <td>1</td>\n",
       "    </tr>\n",
       "    <tr>\n",
       "      <th>4177</th>\n",
       "      <td>75.412069</td>\n",
       "      <td>0.545959</td>\n",
       "      <td>-0.024474</td>\n",
       "      <td>0.078219</td>\n",
       "      <td>1</td>\n",
       "    </tr>\n",
       "  </tbody>\n",
       "</table>\n",
       "<p>4178 rows × 5 columns</p>\n",
       "</div>"
      ],
      "text/plain": [
       "           PCA0      PCA1      PCA2      PCA3  valid\n",
       "0    -56.214995  1.649941 -0.308308 -0.907770      0\n",
       "1    -53.715914  3.191073 -0.745076 -0.568303      0\n",
       "2     79.427259 -2.919293 -0.063480 -0.030278      1\n",
       "3    -53.703131  3.143604  0.455557  0.960732      0\n",
       "4    -98.309056 -6.578304 -0.761650 -0.486053      0\n",
       "...         ...       ...       ...       ...    ...\n",
       "4173 -98.118278  1.598403  1.038293  0.681382      0\n",
       "4174  79.471209 -2.956857 -0.129709 -0.020053      1\n",
       "4175  78.785456 -2.365327 -0.070519 -0.010275      1\n",
       "4176  77.100834 -0.910943 -0.136522  0.047493      1\n",
       "4177  75.412069  0.545959 -0.024474  0.078219      1\n",
       "\n",
       "[4178 rows x 5 columns]"
      ]
     },
     "execution_count": 1,
     "metadata": {},
     "output_type": "execute_result"
    }
   ],
   "source": [
    "import pandas as pd\n",
    "df = pd.read_csv('pca.csv') \n",
    "del df['Unnamed: 0']\n",
    "df"
   ]
  },
  {
   "cell_type": "code",
   "execution_count": 2,
   "metadata": {},
   "outputs": [],
   "source": [
    "from imblearn.over_sampling import SMOTE, ADASYN\n",
    "\n",
    "x = df.iloc[:,0:4].to_numpy()\n",
    "y = df.iloc[:,4:5]\n",
    "\n",
    "sX_resampled, sy_resampled = SMOTE().fit_resample(x, y)\n",
    "aX_resampled, ay_resampled = ADASYN().fit_resample(x, y)\n",
    "\n",
    "y = pd.get_dummies(sy_resampled.valid).to_numpy()\n",
    "\n",
    "from sklearn.model_selection import train_test_split\n",
    "X_train, X_test, y_train, y_test = train_test_split(sX_resampled, y, test_size=0.33, random_state=42)\n"
   ]
  },
  {
   "cell_type": "markdown",
   "metadata": {},
   "source": [
    "SMOTE Based sampling with all fraud records neural network classifier, accuracy testing 98%"
   ]
  },
  {
   "cell_type": "code",
   "execution_count": null,
   "metadata": {},
   "outputs": [],
   "source": [
    "from keras.models import Sequential\n",
    "from keras.layers import Dense, Dropout\n",
    "\n",
    "\n",
    "model = Sequential()\n",
    "model.add(Dense(12, input_dim=4, activation='relu'))\n",
    "model.add(Dropout(0.7))\n",
    "model.add(Dense(8, activation='relu'))\n",
    "model.add(Dropout(0.7))\n",
    "model.add(Dense(8, activation='relu'))\n",
    "model.add(Dropout(0.7))\n",
    "model.add(Dense(8, activation='relu'))\n",
    "model.add(Dropout(0.7))\n",
    "model.add(Dense(2, activation='sigmoid'))\n",
    "\n",
    "model.compile(loss='binary_crossentropy', optimizer='adam', metrics=['accuracy'])\n",
    "model.fit(X_train, y_train, epochs=150, batch_size=10)\n",
    "\n",
    "_, accuracy = model.evaluate(X_test, y_test)\n",
    "print('Accuracy: %.2f' % (accuracy*100))"
   ]
  },
  {
   "cell_type": "markdown",
   "metadata": {},
   "source": [
    "SMOTE Based Neural Network classifier with 500 records, accuracy testing : 99%"
   ]
  },
  {
   "cell_type": "code",
   "execution_count": null,
   "metadata": {},
   "outputs": [],
   "source": [
    "fraud = frames[frames['valid']==0][:500]\n",
    "frames = pd.concat([nofraud, fraud])\n",
    "x = frames.iloc[:,0:4].to_numpy()\n",
    "y = frames.iloc[:,4:5]\n",
    "\n",
    "sX_resampled, sy_resampled = SMOTE().fit_resample(x, y)\n",
    "aX_resampled, ay_resampled = ADASYN().fit_resample(x, y)\n",
    "\n",
    "y = pd.get_dummies(sy_resampled.valid).to_numpy()\n",
    "X_train, X_test, y_train, y_test = train_test_split(sX_resampled, y, test_size=0.33, random_state=42)\n",
    "\n",
    "model.fit(X_train, y_train, epochs=150, batch_size=10)\n",
    "\n",
    "_, accuracy = model.evaluate(X_test, y_test)\n",
    "print('Accuracy: %.2f' % (accuracy*100))"
   ]
  },
  {
   "cell_type": "markdown",
   "metadata": {},
   "source": [
    "SMOTE based neural network with fraud records of 200, accuracy 48%"
   ]
  },
  {
   "cell_type": "code",
   "execution_count": null,
   "metadata": {},
   "outputs": [],
   "source": [
    "fraud = frames[frames['valid']==0][0:200]\n",
    "frames = pd.concat([nofraud, fraud])\n",
    "x = frames.iloc[:,0:4].to_numpy()\n",
    "y = frames.iloc[:,4:5]\n",
    "\n",
    "sX_resampled, sy_resampled = SMOTE().fit_resample(x, y)\n",
    "aX_resampled, ay_resampled = ADASYN().fit_resample(x, y)\n",
    "\n",
    "y = pd.get_dummies(sy_resampled.valid).to_numpy()\n",
    "X_train, X_test, y_train, y_test = train_test_split(sX_resampled, y, test_size=0.33, random_state=42)\n",
    "\n",
    "model.fit(X_train, y_train, epochs=150, batch_size=10)\n",
    "\n",
    "_, accuracy = model.evaluate(X_test, y_test)"
   ]
  },
  {
   "cell_type": "markdown",
   "metadata": {},
   "source": [
    "ADASYN Based Neural Network with accuracy of 98%"
   ]
  },
  {
   "cell_type": "code",
   "execution_count": null,
   "metadata": {},
   "outputs": [],
   "source": [
    "with open(\"frames.bin\", \"rb\") as f:\n",
    "    df = pickle.load(f) \n",
    "\n",
    "df = df[df['lon'] != 0]\n",
    "fraud = df[df['valid'] == 0]\n",
    "nofraud = df[df['valid'] == 1]\n",
    "\n",
    "frames = pd.concat([nofraud, fraud])\n",
    "x = frames.iloc[:,0:4].to_numpy()\n",
    "y = frames.iloc[:,4:5]\n",
    "\n",
    "sX_resampled, sy_resampled = SMOTE().fit_resample(x, y)\n",
    "aX_resampled, ay_resampled = ADASYN().fit_resample(x, y)\n",
    "\n",
    "y = pd.get_dummies(ay_resampled.valid).to_numpy()\n",
    "X_train, X_test, y_train, y_test = train_test_split(aX_resampled, y, test_size=0.33, random_state=42)\n",
    "\n",
    "model.fit(X_train, y_train, epochs=150, batch_size=10)\n",
    "\n",
    "_, accuracy = model.evaluate(X_test, y_test)\n",
    "\n",
    "model = Sequential()\n",
    "model.add(Dense(12, input_dim=4, activation='relu'))\n",
    "model.add(Dropout(0.7))\n",
    "model.add(Dense(8, activation='relu'))\n",
    "model.add(Dropout(0.7))\n",
    "model.add(Dense(8, activation='relu'))\n",
    "model.add(Dropout(0.7))\n",
    "model.add(Dense(8, activation='relu'))\n",
    "model.add(Dropout(0.7))\n",
    "model.add(Dense(2, activation='sigmoid'))\n",
    "\n",
    "model.compile(loss='binary_crossentropy', optimizer='adam', metrics=['accuracy'])\n",
    "model.fit(X_train, y_train, epochs=150, batch_size=10)\n",
    "\n",
    "_, accuracy = model.evaluate(X_test, y_test)\n",
    "print('Accuracy: %.2f' % (accuracy*100))"
   ]
  },
  {
   "cell_type": "markdown",
   "metadata": {},
   "source": [
    "ADASYN Based neural network with 500 fraud records,  test accuracy of 98%"
   ]
  },
  {
   "cell_type": "code",
   "execution_count": null,
   "metadata": {},
   "outputs": [],
   "source": [
    "fraud = frames[frames['valid']==0][:500]\n",
    "frames = pd.concat([nofraud, fraud])\n",
    "x = frames.iloc[:,0:4].to_numpy()\n",
    "y = frames.iloc[:,4:5]\n",
    "\n",
    "sX_resampled, sy_resampled = SMOTE().fit_resample(x, y)\n",
    "aX_resampled, ay_resampled = ADASYN().fit_resample(x, y)\n",
    "\n",
    "y = pd.get_dummies(sy_resampled.valid).to_numpy()\n",
    "X_train, X_test, y_train, y_test = train_test_split(sX_resampled, y, test_size=0.33, random_state=42)\n",
    "\n",
    "model.fit(X_train, y_train, epochs=150, batch_size=10)\n",
    "\n",
    "_, accuracy = model.evaluate(X_test, y_test)\n",
    "print('Accuracy: %.2f' % (accuracy*100))"
   ]
  },
  {
   "cell_type": "markdown",
   "metadata": {},
   "source": [
    "ADASYN Based Neural network with 200 fraud records, 98% accuracy"
   ]
  },
  {
   "cell_type": "code",
   "execution_count": null,
   "metadata": {},
   "outputs": [],
   "source": [
    "fraud = frames[frames['valid']==0][:200]\n",
    "frames = pd.concat([nofraud, fraud])\n",
    "x = frames.iloc[:,0:4].to_numpy()\n",
    "y = frames.iloc[:,4:5]\n",
    "\n",
    "sX_resampled, sy_resampled = SMOTE().fit_resample(x, y)\n",
    "aX_resampled, ay_resampled = ADASYN().fit_resample(x, y)\n",
    "\n",
    "y = pd.get_dummies(sy_resampled.valid).to_numpy()\n",
    "X_train, X_test, y_train, y_test = train_test_split(sX_resampled, y, test_size=0.33, random_state=42)\n",
    "\n",
    "model.fit(X_train, y_train, epochs=150, batch_size=10)\n",
    "\n",
    "_, accuracy = model.evaluate(X_test, y_test)\n",
    "print('Accuracy: %.2f' % (accuracy*100))"
   ]
  },
  {
   "cell_type": "markdown",
   "metadata": {},
   "source": [
    "Linear regression with SMOTE Sampling, accuracy 93%"
   ]
  },
  {
   "cell_type": "code",
   "execution_count": null,
   "metadata": {},
   "outputs": [],
   "source": [
    "with open(\"frames.bin\", \"rb\") as f:\n",
    "    df = pickle.load(f) \n",
    "\n",
    "df = df[df['lon'] != 0]\n",
    "fraud = df[df['valid'] == 0]\n",
    "nofraud = df[df['valid'] == 1]\n",
    "\n",
    "frames = pd.concat([nofraud, fraud])\n",
    "x = frames.iloc[:,0:4].to_numpy()\n",
    "y = frames.iloc[:,4:5]\n",
    "sX_resampled, sy_resampled = SMOTE().fit_resample(x, y)\n",
    "X_train, X_test, y_train, y_test = train_test_split(sX_resampled, sy_resampled, test_size=0.33, random_state=42)\n",
    "\n",
    "from sklearn.linear_model import LinearRegression\n",
    "\n",
    "\n",
    "reg = LinearRegression().fit(X_train, y_train)\n",
    "reg.score(X_test,y_test)\n"
   ]
  },
  {
   "cell_type": "markdown",
   "metadata": {},
   "source": [
    "Linear regression with ADASYN, 92% accuracy"
   ]
  },
  {
   "cell_type": "code",
   "execution_count": null,
   "metadata": {},
   "outputs": [],
   "source": [
    "with open(\"frames.bin\", \"rb\") as f:\n",
    "    df = pickle.load(f) \n",
    "\n",
    "df = df[df['lon'] != 0]\n",
    "fraud = df[df['valid'] == 0]\n",
    "nofraud = df[df['valid'] == 1]\n",
    "\n",
    "frames = pd.concat([nofraud, fraud])\n",
    "x = frames.iloc[:,0:4].to_numpy()\n",
    "y = frames.iloc[:,4:5]\n",
    "aX_resampled, ay_resampled = ADASYN().fit_resample(x, y)\n",
    "X_train, X_test, y_train, y_test = train_test_split(aX_resampled, ay_resampled, test_size=0.33, random_state=42)\n",
    "\n",
    "\n",
    "reg = LinearRegression().fit(X_train, y_train)\n",
    "reg.score(X_test,y_test)"
   ]
  },
  {
   "cell_type": "code",
   "execution_count": null,
   "metadata": {},
   "outputs": [],
   "source": []
  }
 ],
 "metadata": {
  "kernelspec": {
   "display_name": "Python 3",
   "language": "python",
   "name": "python3"
  },
  "language_info": {
   "codemirror_mode": {
    "name": "ipython",
    "version": 3
   },
   "file_extension": ".py",
   "mimetype": "text/x-python",
   "name": "python",
   "nbconvert_exporter": "python",
   "pygments_lexer": "ipython3",
   "version": "3.8.5"
  }
 },
 "nbformat": 4,
 "nbformat_minor": 4
}
