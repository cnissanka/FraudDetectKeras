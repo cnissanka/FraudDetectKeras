{
 "cells": [
  {
   "cell_type": "code",
   "execution_count": 3,
   "metadata": {},
   "outputs": [],
   "source": [
    "import pickle \n",
    "fraud_lat = []\n",
    "fraud_lon = [] \n",
    "nofraud_lat = [] \n",
    "nofraud_lon = [] \n",
    "\n",
    "with open(\"fraud_lat.bin\", \"rb\") as f: \n",
    "    fraud_lat = pickle.load(f)\n",
    "\n",
    "with open(\"fraud_lon.bin\", \"rb\") as f: \n",
    "    fraud_lon = pickle.load(f)\n",
    "    \n",
    "with open(\"nofraud_lat.bin\", \"rb\") as f: \n",
    "    nofraud_lat = pickle.load(f)\n",
    "    \n",
    "with open(\"nofraud_lon.bin\", \"rb\") as f: \n",
    "    nofraud_lon = pickle.load(f) \n",
    "\n",
    "\n",
    "    \n"
   ]
  },
  {
   "cell_type": "code",
   "execution_count": 7,
   "metadata": {},
   "outputs": [],
   "source": [
    "import pandas as pd \n",
    "df = pd.read_csv('data.csv') \n",
    "\n",
    "# Not fraud dataset\n",
    "nofraud = df[df['status'] != 'Fraud'][0:5000]\n",
    "\n",
    "#Fraud dataset \n",
    "fraud = df[df['status'] == 'Fraud'][0:5000]\n",
    "\n",
    "nofraud['lat'] = nofraud_lat[0:5000]\n",
    "nofraud['lon'] = nofraud_lon[0:5000]\n",
    "fraud['lat'] = fraud_lat[0:5000] \n",
    "fraud['lon'] = fraud_lon[0:5000]"
   ]
  },
  {
   "cell_type": "code",
   "execution_count": 9,
   "metadata": {},
   "outputs": [],
   "source": [
    "# Normalize lon and lat variables \n",
    "from sklearn import preprocessing\n",
    "import numpy as np\n",
    "\n",
    "x = fraud.lon #returns a numpy array\n",
    "x = np.array(x).reshape(-1, 1)\n",
    "min_max_scaler = preprocessing.MinMaxScaler()\n",
    "x_scaled = min_max_scaler.fit_transform(x)\n",
    "fraud['lon'] = x\n",
    "\n",
    "x = fraud.lat #returns a numpy array\n",
    "x = np.array(x).reshape(-1, 1)\n",
    "min_max_scaler = preprocessing.MinMaxScaler()\n",
    "x_scaled = min_max_scaler.fit_transform(x)\n",
    "fraud['lat'] = x\n",
    "\n",
    "x = nofraud.lon #returns a numpy array\n",
    "x = np.array(x).reshape(-1, 1)\n",
    "min_max_scaler = preprocessing.MinMaxScaler()\n",
    "x_scaled = min_max_scaler.fit_transform(x)\n",
    "nofraud['lon'] = x\n",
    "\n",
    "x = nofraud.lat #returns a numpy array\n",
    "x = np.array(x).reshape(-1, 1)\n",
    "min_max_scaler = preprocessing.MinMaxScaler()\n",
    "x_scaled = min_max_scaler.fit_transform(x)\n",
    "nofraud['lat'] = x"
   ]
  },
  {
   "cell_type": "code",
   "execution_count": 11,
   "metadata": {},
   "outputs": [],
   "source": [
    "import time \n",
    "import datetime \n",
    "\n",
    "seconds_in_day = 24*60*60\n",
    "\n",
    "fraud_timestamps = [] \n",
    "nofraud_timestamps = [] \n",
    "\n",
    "for i in fraud.timestamp:\n",
    "    fraud_timestamps.append(time.mktime(datetime.datetime.strptime(i, \"%Y-%m-%d %H:%M:%S.%f\").timetuple()))\n",
    "\n",
    "for i in nofraud.timestamp:\n",
    "    nofraud_timestamps.append(time.mktime(datetime.datetime.strptime(i, \"%Y-%m-%d %H:%M:%S.%f\").timetuple()))\n",
    "\n",
    "\n",
    "nofraud['secs'] = nofraud_timestamps\n",
    "fraud['secs'] = fraud_timestamps\n",
    "\n",
    "fraud['sin_time'] = np.sin(2*np.pi*fraud.secs/seconds_in_day)\n",
    "fraud['cos_time'] = np.cos(2*np.pi*fraud.secs/seconds_in_day)\n",
    "nofraud['sin_time'] =  np.sin(2*np.pi*nofraud.secs/seconds_in_day)\n",
    "nofraud['cos_time'] =  np.cos(2*np.pi*nofraud.secs/seconds_in_day)"
   ]
  },
  {
   "cell_type": "code",
   "execution_count": 12,
   "metadata": {},
   "outputs": [],
   "source": [
    "from sklearn.utils import shuffle\n",
    "\n",
    "\n",
    "# create dataset for training and testing \n",
    "frames = [fraud, nofraud]\n",
    "df = pd.concat(frames)\n",
    "df = df[['lon', 'lat', 'sin_time', 'cos_time', 'valid']]\n",
    "df = shuffle(df)\n",
    "df['valid'] = df['valid'].astype(int)\n",
    "\n",
    "train = df.iloc[0:7000]\n",
    "test = df.iloc[7000:10000]\n",
    "\n",
    "train_x = train.iloc[:, 0:4]\n",
    "train_y = train.iloc[:, 4:5]\n",
    "\n",
    "test_x = test.iloc[:,0:4] \n",
    "test_y = test.iloc[:,4:5]"
   ]
  },
  {
   "cell_type": "code",
   "execution_count": 21,
   "metadata": {},
   "outputs": [
    {
     "data": {
      "text/plain": [
       "0.6633147190452996"
      ]
     },
     "execution_count": 21,
     "metadata": {},
     "output_type": "execute_result"
    }
   ],
   "source": [
    "from sklearn.linear_model import LinearRegression\n",
    "x = train_x.to_numpy() \n",
    "y = train_y.to_numpy()\n",
    "\n",
    "reg = LinearRegression().fit(x, y)\n",
    "reg.score(x,y)\n",
    "\n"
   ]
  },
  {
   "cell_type": "code",
   "execution_count": 22,
   "metadata": {},
   "outputs": [
    {
     "data": {
      "text/plain": [
       "0.6739930534450412"
      ]
     },
     "execution_count": 22,
     "metadata": {},
     "output_type": "execute_result"
    }
   ],
   "source": [
    "\n",
    "x = test_x.to_numpy()\n",
    "y = test_y.to_numpy() \n",
    "reg.score(x,y)"
   ]
  },
  {
   "cell_type": "code",
   "execution_count": 24,
   "metadata": {},
   "outputs": [],
   "source": [
    "df.to_pickle(\"frames.bin\")"
   ]
  },
  {
   "cell_type": "code",
   "execution_count": 25,
   "metadata": {},
   "outputs": [],
   "source": [
    "train = df.iloc[0:7000]\n",
    "test = df.iloc[7000:10000]\n",
    "\n",
    "train_x = train.iloc[:, 0:4]\n",
    "train_y = train.iloc[:, 4:5]\n",
    "\n",
    "test_x = test.iloc[:,0:4] \n",
    "test_y = test.iloc[:,4:5]"
   ]
  },
  {
   "cell_type": "code",
   "execution_count": null,
   "metadata": {},
   "outputs": [],
   "source": []
  }
 ],
 "metadata": {
  "kernelspec": {
   "display_name": "Python 3",
   "language": "python",
   "name": "python3"
  },
  "language_info": {
   "codemirror_mode": {
    "name": "ipython",
    "version": 3
   },
   "file_extension": ".py",
   "mimetype": "text/x-python",
   "name": "python",
   "nbconvert_exporter": "python",
   "pygments_lexer": "ipython3",
   "version": "3.8.5"
  }
 },
 "nbformat": 4,
 "nbformat_minor": 4
}
